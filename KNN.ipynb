{
 "cells": [
  {
   "cell_type": "code",
   "execution_count": 10,
   "metadata": {
    "collapsed": false
   },
   "outputs": [],
   "source": [
    "import random\n",
    "import numpy as np\n",
    "import matplotlib.pyplot as plt\n",
    "import pandas as pd\n",
    "import pickle\n",
    "import matplotlib.image as mpimg\n"
   ]
  },
  {
   "cell_type": "code",
   "execution_count": 5,
   "metadata": {
    "collapsed": false
   },
   "outputs": [],
   "source": [
    "%matplotlib inline\n",
    "plt.rcParams['figure.figsize'] = (10.0, 8.0) # Set default plot sizes\n",
    "plt.rcParams['image.interpolation']  = 'nearest' # User nearest neighbor for rendering small size images."
   ]
  },
  {
   "cell_type": "code",
   "execution_count": 7,
   "metadata": {
    "collapsed": true
   },
   "outputs": [],
   "source": [
    "# Allowing notebooks to reload external python modules; Details: http://stackoverflow.com/questions/1907993/autoreload-of-modules-in-ipython\n",
    "%load_ext autoreload\n",
    "%autoreload 2"
   ]
  },
  {
   "cell_type": "code",
   "execution_count": 12,
   "metadata": {
    "collapsed": false
   },
   "outputs": [],
   "source": [
    "def  unpickle(file):\n",
    "    fo = open(file, 'rb')\n",
    "    data = pickle.load(fo, encoding = 'bytes')\n",
    "    return data\n",
    "\n",
    "u = unpickle('cifar/data_batch_1')"
   ]
  },
  {
   "cell_type": "code",
   "execution_count": 31,
   "metadata": {
    "collapsed": false
   },
   "outputs": [],
   "source": [
    "Xtrain = []\n",
    "Ytrain = []\n",
    "for i in range(1,6):\n",
    "    file = 'cifar/data_batch_' + str(i)\n",
    "    u = unpickle(file)\n",
    "    x = u[b'data'].reshape(10000,3,32,32).transpose(0,2,3,1).astype('float')\n",
    "    y = np.array(u[b'labels'])\n",
    "    Xtrain.append(x)\n",
    "    Ytrain.append(y)\n",
    "    \n",
    "Xtrain = np.concatenate(Xtrain)    \n",
    "Ytrain = np.concatenate(Ytrain)"
   ]
  },
  {
   "cell_type": "code",
   "execution_count": 32,
   "metadata": {
    "collapsed": false
   },
   "outputs": [
    {
     "name": "stdout",
     "output_type": "stream",
     "text": [
      "(50000, 32, 32, 3)\n",
      "(50000,)\n"
     ]
    }
   ],
   "source": [
    "print(np.shape(Xtrain))\n",
    "print(np.shape(Ytrain))"
   ]
  },
  {
   "cell_type": "code",
   "execution_count": 42,
   "metadata": {
    "collapsed": false
   },
   "outputs": [
    {
     "data": {
      "image/png": "[encoded data removed]",
      "text/plain": [
       "<matplotlib.figure.Figure at 0x7f00e827cf28>"
      ]
     },
     "metadata": {},
     "output_type": "display_data"
    }
   ],
   "source": [
    "#Visualize some of the classes\n",
    "classes = ['plane','car','bird','cat','dog','frog','horse','ship','truck']\n",
    "\n",
    "for i in range(1,4):\n",
    "    plt.subplot(7,2,i)\n",
    "    plt.imshow(Xtrain[i].astype('uint8'))\n",
    "plt.show()"
   ]
  },
  {
   "cell_type": "code",
   "execution_count": 47,
   "metadata": {
    "collapsed": false
   },
   "outputs": [
    {
     "name": "stdout",
     "output_type": "stream",
     "text": [
      "0\n",
      "plane\n",
      "1\n",
      "car\n",
      "2\n",
      "bird\n",
      "3\n",
      "cat\n",
      "4\n",
      "dog\n",
      "5\n",
      "frog\n",
      "6\n",
      "horse\n",
      "7\n",
      "ship\n",
      "8\n",
      "truck\n"
     ]
    }
   ],
   "source": [
    "for y, cls in enumerate(classes):\n",
    "  print(y)\n",
    "  print(cls)\n"
   ]
  }
 ],
 "metadata": {
  "kernelspec": {
   "display_name": "Python 3",
   "language": "python",
   "name": "python3"
  },
  "language_info": {
   "codemirror_mode": {
    "name": "ipython",
    "version": 3
   },
   "file_extension": ".py",
   "mimetype": "text/x-python",
   "name": "python",
   "nbconvert_exporter": "python",
   "pygments_lexer": "ipython3",
   "version": "3.5.2"
  }
 },
 "nbformat": 4,
 "nbformat_minor": 2
}
